{
 "cells": [
  {
   "cell_type": "code",
   "execution_count": 3,
   "metadata": {},
   "outputs": [
    {
     "name": "stdout",
     "output_type": "stream",
     "text": [
      "Requirement already satisfied: pylint in c:\\users\\ravi kantharia\\anaconda3\\lib\\site-packages (2.4.2)\n",
      "Requirement already satisfied: mccabe<0.7,>=0.6 in c:\\users\\ravi kantharia\\anaconda3\\lib\\site-packages (from pylint) (0.6.1)\n",
      "Requirement already satisfied: astroid<2.4,>=2.3.0 in c:\\users\\ravi kantharia\\anaconda3\\lib\\site-packages (from pylint) (2.3.1)\n",
      "Requirement already satisfied: isort<5,>=4.2.5 in c:\\users\\ravi kantharia\\anaconda3\\lib\\site-packages (from pylint) (4.3.21)\n",
      "Requirement already satisfied: colorama; sys_platform == \"win32\" in c:\\users\\ravi kantharia\\anaconda3\\lib\\site-packages (from pylint) (0.4.1)\n",
      "Requirement already satisfied: wrapt==1.11.* in c:\\users\\ravi kantharia\\anaconda3\\lib\\site-packages (from astroid<2.4,>=2.3.0->pylint) (1.11.2)\n",
      "Requirement already satisfied: typed-ast<1.5,>=1.4.0; implementation_name == \"cpython\" and python_version < \"3.8\" in c:\\users\\ravi kantharia\\anaconda3\\lib\\site-packages (from astroid<2.4,>=2.3.0->pylint) (1.4.1)\n",
      "Requirement already satisfied: six==1.12 in c:\\users\\ravi kantharia\\anaconda3\\lib\\site-packages (from astroid<2.4,>=2.3.0->pylint) (1.12.0)\n",
      "Requirement already satisfied: lazy-object-proxy==1.4.* in c:\\users\\ravi kantharia\\anaconda3\\lib\\site-packages (from astroid<2.4,>=2.3.0->pylint) (1.4.2)\n"
     ]
    }
   ],
   "source": [
    "! pip install pylint"
   ]
  },
  {
   "cell_type": "code",
   "execution_count": 6,
   "metadata": {},
   "outputs": [
    {
     "name": "stdout",
     "output_type": "stream",
     "text": [
      "Overwriting prime.py\n"
     ]
    }
   ],
   "source": [
    "%%writefile prime.py\n",
    "\n",
    "\n",
    "\n",
    "\n",
    "def is_prime(given_no):\n",
    "    \n",
    "    if given_no >= 1:\n",
    "        for i in range(2, given_no):\n",
    "            if (given_no % i) == 0:\n",
    "                final_result=\"Not Prime\"\n",
    "            else:\n",
    "                final_result=\"Prime\"\n",
    "    else:\n",
    "        final_result=\"Not Prime\"\n",
    "    return final_result"
   ]
  },
  {
   "cell_type": "code",
   "execution_count": null,
   "metadata": {},
   "outputs": [],
   "source": []
  }
 ],
 "metadata": {
  "kernelspec": {
   "display_name": "Python 3",
   "language": "python",
   "name": "python3"
  },
  "language_info": {
   "codemirror_mode": {
    "name": "ipython",
    "version": 3
   },
   "file_extension": ".py",
   "mimetype": "text/x-python",
   "name": "python",
   "nbconvert_exporter": "python",
   "pygments_lexer": "ipython3",
   "version": "3.7.4"
  }
 },
 "nbformat": 4,
 "nbformat_minor": 2
}
