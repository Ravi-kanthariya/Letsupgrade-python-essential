{
 "cells": [
  {
   "cell_type": "markdown",
   "metadata": {},
   "source": [
    "# day 6 Assignmnet 2"
   ]
  },
  {
   "cell_type": "code",
   "execution_count": 3,
   "metadata": {},
   "outputs": [
    {
     "name": "stdout",
     "output_type": "stream",
     "text": [
      "\n",
      "Enter the radius of cone : 25\n",
      "\n",
      "Enter the height of cone : 5\n",
      "\n",
      "Volume Of Cone is : 3272.4923474893676\n",
      "\n",
      "Surface Area Of Cone is : 2356.194490192345\n"
     ]
    }
   ],
   "source": [
    "import math\n",
    "\n",
    "pi = math.pi\n",
    "\n",
    "class cone:\n",
    "    \n",
    "    def __init__(self,r,h): \n",
    "\n",
    "        self.r=r\n",
    "        \n",
    "        self.h=h\n",
    "        \n",
    "    def volume(self):\n",
    "        \n",
    "        result = (1 / 3) * pi * self.r * self.r * self.h\n",
    "        \n",
    "        print(\"\\nVolume Of Cone is :\",result)\n",
    "        \n",
    "    def surfacearea(self):\n",
    "        \n",
    "        result = pi * self.r * self.h + pi * self.r * self.r\n",
    "         \n",
    "        print(\"\\nSurface Area Of Cone is :\",result)\n",
    "radius = float(input(\"\\nEnter the radius of cone : \"))\n",
    "\n",
    "height = float(input(\"\\nEnter the height of cone : \"))\n",
    "\n",
    "c = cone( radius, height)\n",
    "\n",
    "c.volume()\n",
    "\n",
    "c.surfacearea()"
   ]
  }
 ],
 "metadata": {
  "kernelspec": {
   "display_name": "Python 3",
   "language": "python",
   "name": "python3"
  },
  "language_info": {
   "codemirror_mode": {
    "name": "ipython",
    "version": 3
   },
   "file_extension": ".py",
   "mimetype": "text/x-python",
   "name": "python",
   "nbconvert_exporter": "python",
   "pygments_lexer": "ipython3",
   "version": "3.7.4"
  }
 },
 "nbformat": 4,
 "nbformat_minor": 2
}
