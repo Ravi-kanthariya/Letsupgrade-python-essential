{
 "cells": [
  {
   "cell_type": "markdown",
   "metadata": {},
   "source": [
    "# DAY 6 assignment 1"
   ]
  },
  {
   "cell_type": "code",
   "execution_count": 3,
   "metadata": {},
   "outputs": [
    {
     "name": "stdout",
     "output_type": "stream",
     "text": [
      "\n",
      "Account Holder Name is : Ravi Kantharia\n",
      "\n",
      " Enter amount to be Deposit:5550\n",
      "\n",
      " Amount deposit is: 5550.0\n",
      "\n",
      " Enter amount to be Withdrawn : 7440\n",
      "\n",
      "Insufficient balance in the account...\n",
      "\n",
      " Remaining Avaliable balance is :  5550.0\n"
     ]
    }
   ],
   "source": [
    "class BANK_ACCOUNT:\n",
    "    def __init__(self):\n",
    "        self.ownerName=\"Ravi Kantharia\"\n",
    "        self.Balance=0\n",
    "    def deposit(self):\n",
    "        Total_Amount=float(input(\"\\n Enter amount to be Deposit:\"))\n",
    "        self.Balance += Total_Amount\n",
    "        print(\"\\n Amount deposit is:\" ,Total_Amount) \n",
    "    def withdraw(self):\n",
    "        Total_Amount = float(input(\"\\n Enter amount to be Withdrawn : \"))\n",
    "        if self.Balance >= Total_Amount:\n",
    "            self.Balance -= Total_Amount \n",
    "            print(\"\\nYou have Withdrew :\", Total_Amount)\n",
    "        else: \n",
    "            print(\"\\nInsufficient balance in the account...\")\n",
    "\n",
    "BA = BANK_ACCOUNT()\n",
    "print(\"\\nAccount Holder Name is :\",BA.ownerName)\n",
    "BA.deposit();\n",
    "BA.withdraw();    \n",
    "print(\"\\n Remaining Avaliable balance is : \",BA.Balance)\n",
    "        "
   ]
  },
  {
   "cell_type": "code",
   "execution_count": null,
   "metadata": {},
   "outputs": [],
   "source": []
  }
 ],
 "metadata": {
  "kernelspec": {
   "display_name": "Python 3",
   "language": "python",
   "name": "python3"
  },
  "language_info": {
   "codemirror_mode": {
    "name": "ipython",
    "version": 3
   },
   "file_extension": ".py",
   "mimetype": "text/x-python",
   "name": "python",
   "nbconvert_exporter": "python",
   "pygments_lexer": "ipython3",
   "version": "3.7.4"
  }
 },
 "nbformat": 4,
 "nbformat_minor": 2
}
