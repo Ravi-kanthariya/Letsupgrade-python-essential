{
 "cells": [
  {
   "cell_type": "code",
   "execution_count": 6,
   "metadata": {},
   "outputs": [
    {
     "name": "stdout",
     "output_type": "stream",
     "text": [
      "Overwriting test.txt\n"
     ]
    }
   ],
   "source": [
    "%%writefile test.txt\n",
    "\n",
    "Hi this is Ravi\n",
    "i am doing trading at my place. \n",
    "\n",
    "\n"
   ]
  },
  {
   "cell_type": "code",
   "execution_count": 7,
   "metadata": {},
   "outputs": [
    {
     "name": "stdout",
     "output_type": "stream",
     "text": [
      "\n",
      "Error has been occured\n",
      "\n",
      "Error message is : not writable\n"
     ]
    }
   ],
   "source": [
    "try:\n",
    "    \n",
    "    file = open(\"test.txt\",\"r\")\n",
    "    \n",
    "    file.write(\"\\nI am from Gujrat.\")\n",
    "    \n",
    "    print(\"\\nWrite operation has done successfully in read only mode.\")\n",
    "    \n",
    "except Exception as e:\n",
    "    \n",
    "    print(\"\\nError has been occured\")\n",
    "    \n",
    "    print(\"\\nError message is :\",e)\n"
   ]
  },
  {
   "cell_type": "code",
   "execution_count": null,
   "metadata": {},
   "outputs": [],
   "source": []
  }
 ],
 "metadata": {
  "kernelspec": {
   "display_name": "Python 3",
   "language": "python",
   "name": "python3"
  },
  "language_info": {
   "codemirror_mode": {
    "name": "ipython",
    "version": 3
   },
   "file_extension": ".py",
   "mimetype": "text/x-python",
   "name": "python",
   "nbconvert_exporter": "python",
   "pygments_lexer": "ipython3",
   "version": "3.7.4"
  }
 },
 "nbformat": 4,
 "nbformat_minor": 2
}
